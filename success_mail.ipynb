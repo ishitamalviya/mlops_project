{
 "cells": [
  {
   "cell_type": "code",
   "execution_count": 1,
   "metadata": {},
   "outputs": [
    {
     "name": "stdout",
     "output_type": "stream",
     "text": [
      "Successfully sent your mail\n"
     ]
    }
   ],
   "source": [
    "import smtplib\n",
    "from email.mime.multipart import MIMEMultipart\n",
    "from email.mime.text import MIMEText\n",
    "sender=\"hostadd123@gmail.com\"\n",
    "passd=\"host_address\"\n",
    "guest=\"47guestadd12345@gmail.com\"\n",
    "subject=\"update on successful completion of model   \"\n",
    "content = '''Hello, \n",
    "\t\t\t\tDeveloper this is to notify you about your last commit. The last commit that you had taken into consideration and based on that the trained model has given best accuracy .\n",
    "\t\t\t\tCongratulations on your success.\n",
    "\t\t\tTHANK YOU ...'''\n",
    "message = MIMEMultipart()\n",
    "message['From']=sender\n",
    "message['To']=guest\n",
    "message['Subject']=subject\n",
    "message.attach(MIMEText(content, 'plain'))\n",
    "smtpserver=smtplib.SMTP('smtp.gmail.com', 587)\n",
    "smtpserver.ehlo()\n",
    "smtpserver.starttls()\n",
    "smtpserver.ehlo()\n",
    "smtpserver.login(sender,passd)\n",
    "text = message.as_string()\n",
    "smtpserver.sendmail(sender,guest,text)\n",
    "smtpserver.close()\n",
    "print('Successfully sent your mail')"
   ]
  },
  {
   "cell_type": "code",
   "execution_count": null,
   "metadata": {},
   "outputs": [],
   "source": []
  }
 ],
 "metadata": {
  "kernelspec": {
   "display_name": "Python 3",
   "language": "python",
   "name": "python3"
  },
  "language_info": {
   "codemirror_mode": {
    "name": "ipython",
    "version": 3
   },
   "file_extension": ".py",
   "mimetype": "text/x-python",
   "name": "python",
   "nbconvert_exporter": "python",
   "pygments_lexer": "ipython3",
   "version": "3.7.6"
  }
 },
 "nbformat": 4,
 "nbformat_minor": 4
}
