{
 "cells": [
  {
   "cell_type": "code",
   "execution_count": 27,
   "metadata": {},
   "outputs": [],
   "source": [
    "# importing \n",
    "\n",
    "from keras.datasets import mnist\n",
    "from keras.models import Sequential\n",
    "from keras.utils.np_utils import to_categorical\n",
    "from keras.layers import Dense\n",
    "from keras.optimizers import Adam\n",
    "from keras.backend import clear_session\n",
    "import numpy\n",
    "import keras\n",
    "\n"
   ]
  },
  {
   "cell_type": "code",
   "execution_count": 28,
   "metadata": {},
   "outputs": [],
   "source": [
    "#defining the model function\n",
    "\n",
    "def defmodel(neurons , model , epochs , test) : \n",
    "\tmodel.add(Dense(units = neurons , input_dim = 28*28 , activation = 'relu'))\n",
    "\tmodel.add(Dense(units=150 , input_dim = 28*28 , activation = 'relu'))\n",
    "\tmodel.add(Dense(units=80 , input_dim = 28*28 , activation = 'relu'))\n",
    "\tmodel.add(Dense(units=10 , input_dim = 28*28 , activation = 'softmax'))\n",
    "\tmodel.compile( optimizer= \"Adam\" , loss='categorical_crossentropy', \n",
    "\t             metrics=['accuracy'] )\n",
    "\treturn model\n",
    "\n",
    "\n"
   ]
  },
  {
   "cell_type": "code",
   "execution_count": 29,
   "metadata": {},
   "outputs": [],
   "source": [
    "# fitting the model\n",
    "def fitmodel(fit_model, epochs):\n",
    "\ttext = fit_model.history\n",
    "\taccuracy = text['accuracy'][epochs-1] * 100\n",
    "\taccuracy = int(accuracy)\n",
    "\tf= open(\"accuracy.txt\",\"w+\")\n",
    "\tf.write(str(accuracy))\n",
    "\tf.close()\n",
    "\tprint(\"    Accuracy for this change in model  : \" , accuracy ,\"%\")\n",
    "\treturn accuracy\n",
    "\n",
    "\n",
    "\n"
   ]
  },
  {
   "cell_type": "code",
   "execution_count": 30,
   "metadata": {},
   "outputs": [],
   "source": [
    "# Load Model \n",
    "(X_train , y_train), (X_test ,y_test) = mnist.load_data(\"mymnist.db\")\n"
   ]
  },
  {
   "cell_type": "code",
   "execution_count": 36,
   "metadata": {},
   "outputs": [],
   "source": [
    "# Reshape data \n",
    "X_test = X_test.reshape(-1 , 28*28)\n",
    "X_train = X_train.reshape(-1 ,  28*28)\n",
    "#changing data type\n",
    "X_test = X_test.astype(\"float32\")\n",
    "X_train = X_train.astype(\"float32\")\n"
   ]
  },
  {
   "cell_type": "code",
   "execution_count": 32,
   "metadata": {},
   "outputs": [],
   "source": [
    "# One hot encoding \n",
    "y_test = to_categorical(y_test)\n",
    "y_train = to_categorical(y_train)\n",
    "\n",
    "\n"
   ]
  },
  {
   "cell_type": "code",
   "execution_count": 35,
   "metadata": {},
   "outputs": [],
   "source": [
    "#predefining\n",
    "neurons = 10\n",
    "accuracy = 0\n",
    "epochs = 1\n",
    "test = 1\n",
    "flag = 0\n",
    "\n"
   ]
  },
  {
   "cell_type": "code",
   "execution_count": 34,
   "metadata": {},
   "outputs": [
    {
     "name": "stdout",
     "output_type": "stream",
     "text": [
      " Finding accuracy . . .\n",
      "    Accuracy for this change in model  :  62 %\n",
      " Finding accuracy . . .\n",
      "    Accuracy for this change in model  :  91 %\n",
      " Finding accuracy . . .\n",
      "    Accuracy for this change in model  :  93 %\n",
      " Finding accuracy . . .\n",
      "    Accuracy for this change in model  :  94 %\n",
      " Finding accuracy . . .\n",
      "    Accuracy for this change in model  :  95 %\n",
      " Finding accuracy . . .\n",
      "    Accuracy for this change in model  :  96 %\n",
      " Finding accuracy . . .\n",
      "    Accuracy for this change in model  :  96 %\n",
      " Finding accuracy . . .\n",
      "    Accuracy for this change in model  :  97 %\n",
      " Finding accuracy . . .\n",
      "    Accuracy for this change in model  :  97 %\n",
      " Finding accuracy . . .\n",
      "    Accuracy for this change in model  :  97 %\n",
      " Finding accuracy . . .\n",
      "    Accuracy for this change in model  :  98 %\n"
     ]
    }
   ],
   "source": [
    "#running while the defined accuracy is achieved\n",
    "while int(accuracy) < 98:\n",
    "\tif flag == 1 :\n",
    "\t\tmodel = keras.backend.clear_session()\n",
    "\t\tneurons = neurons+10\n",
    "\t\tepochs = epochs+1 \n",
    "\t\ttest = test + 1\n",
    "\tmodel = Sequential()\n",
    "\tmodel = defmodel(neurons , model , epochs , test)\n",
    "\tprint(\" Finding accuracy . . .\")\n",
    "\tfit_model = model.fit(X_train ,  y_train , epochs = epochs , verbose =  False)\n",
    "\taccuracy=fitmodel(fit_model , epochs)\n",
    "\tflag = 1"
   ]
  },
  {
   "cell_type": "code",
   "execution_count": null,
   "metadata": {},
   "outputs": [],
   "source": []
  }
 ],
 "metadata": {
  "kernelspec": {
   "display_name": "Python 3",
   "language": "python",
   "name": "python3"
  },
  "language_info": {
   "codemirror_mode": {
    "name": "ipython",
    "version": 3
   },
   "file_extension": ".py",
   "mimetype": "text/x-python",
   "name": "python",
   "nbconvert_exporter": "python",
   "pygments_lexer": "ipython3",
   "version": "3.7.6"
  }
 },
 "nbformat": 4,
 "nbformat_minor": 4
}
